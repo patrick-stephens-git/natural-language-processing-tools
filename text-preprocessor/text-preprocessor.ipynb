{
 "cells": [
  {
   "cell_type": "code",
   "execution_count": 1,
   "id": "386359bd",
   "metadata": {},
   "outputs": [],
   "source": [
    "from bs4 import BeautifulSoup\n",
    "import contractions\n",
    "import unidecode\n",
    "import requests\n",
    "import string\n",
    "import nltk\n",
    "from nltk.stem import PorterStemmer, WordNetLemmatizer\n",
    "from nltk.tokenize import word_tokenize\n",
    "from nltk.corpus import stopwords\n",
    "import re"
   ]
  },
  {
   "cell_type": "code",
   "execution_count": 2,
   "id": "5c428646",
   "metadata": {},
   "outputs": [],
   "source": [
    "# ## Import Training Data (Text Corpus) via input URL:\n",
    "# url = 'https://en.wikipedia.org/wiki/Music_theory'\n",
    "# headers = {\n",
    "#     'User-Agent': 'Mozilla/5.0 (Linux; Android 6.0.1; Nexus 5X Build/MMB29P) AppleWebKit/537.36 (KHTML, like Gecko) Chrome/W.X.Y.Z Mobile Safari/537.36 (compatible; Googlebot/2.1; +http://www.google.com/bot.html)'\n",
    "#           }\n",
    "# req = requests.get(url, headers)\n",
    "# soup = BeautifulSoup(req.content, 'html.parser')\n",
    "# training_text = soup.get_text()\n",
    "# print(training_text)"
   ]
  },
  {
   "cell_type": "code",
   "execution_count": 3,
   "id": "0743176f",
   "metadata": {},
   "outputs": [
    {
     "name": "stdout",
     "output_type": "stream",
     "text": [
      "<!doctype html>\n",
      "<html data-n-head-ssr lang=\"en\" theme=\"air-2-76\" data-n-head=\"%7B%22lang%22:%7B%22ssr%22:%22en%22%7D,%22theme%22:%7B%22ssr%22:%22air-2-76%22%7D%7D\">\n",
      "  <head >\n",
      "    <title>Upwork | The World’s Work Marketplace</title><meta data-n-head=\"ssr\" charset=\"utf-8\"><meta data-n-head=\"ssr\" data-hid=\"viewport\" name=\"viewport\" content=\"width=device-width, initial-scale=1, viewport-fit=cover\"><meta data-n-head=\"ssr\" data-hid=\"keywords\" name=\"keywords\" content=\"Offshore outsourcing, Freelancers, India, Russia, Ukraine, php Programmers, Coders, Developers, Writers, Web Designers, Website Design, Technical Writers\"><meta data-n-head=\"ssr\" data-hid=\"charset\" charset=\"utf-8\"><meta data-n-head=\"ssr\" data-hid=\"mobile-web-app-capable\" name=\"mobile-web-app-capable\" content=\"yes\"><meta data-n-head=\"ssr\" data-hid=\"apple-mobile-web-app-title\" name=\"apple-mobile-web-app-title\" content=\"brontes\"><meta data-n-head=\"ssr\" data-hid=\"robots\" name=\"robots\" content=\"noodp,nodir,noydir\"><meta data-n-head=\"ssr\" data-hid=\"http-equiv\" http-equiv=\"X-UA-Compatible\" content=\"IE=edge,chrome=1\"><meta data-n-head=\"ssr\" data-hid=\"google-site-verification\" name=\"google-site-verification\" content=\"N-_jCyE1h6__HRbsQXeaCARvBgWHSOcWxe2OPfoEsRY\"><meta data-n-head=\"ssr\" data-hid=\"og:title\" property=\"og:title\" content=\"Upwork | The World’s Work Marketplace\"><meta data-n-head=\"ssr\" data-hid=\"og:image\" property=\"og:image\" content=\"https://assets.static-upwork.com/gw-packages/assets/open-graph/up-open-graph.png\"><meta data-n-head=\"ssr\" data-hid=\"og:url\" property=\"og:url\" content=\"https://www.upwork.com/\"><meta data-n-head=\"ssr\" data-hid=\"og:site_name\" property=\"og:site_name\" content=\"Upwork\"><meta data-n-head=\"ssr\" data-hid=\"og:type\" property=\"og:type\" content=\"website\"><meta data-n-head=\"ssr\" data-hid=\"twitter:url\" name=\"twitter:url\" content=\"https://www.upwork.com/\"><meta data-n-head=\"ssr\" data-hid=\"twitter:card\" name=\"twitter:card\" content=\"summary\"><meta data-n-head=\"ssr\" data-hid=\"twitter:site\" name=\"t\n"
     ]
    }
   ],
   "source": [
    "## Import Training Data (Text Corpus) via input File:\n",
    "with open('training-text.txt', encoding='utf-8') as input_file:\n",
    "    training_text = input_file.read()\n",
    "sample_training_text = training_text[0:2000]\n",
    "print(sample_training_text)"
   ]
  },
  {
   "cell_type": "code",
   "execution_count": 4,
   "id": "24809278",
   "metadata": {},
   "outputs": [],
   "source": [
    "## Clean Training Data: (Text Pre-processing)\n",
    "def text_preprocessor(text):\n",
    "    ###########################################\n",
    "    soup = BeautifulSoup(text, 'html.parser') ## Remove HTML\n",
    "    text = soup.get_text(separator=' ') ## Remove HTML\n",
    "    ###########################################\n",
    "    text = text.lower() ## Lowercase Characters\n",
    "    text = contractions.fix(text) ## Expand Contractions (\"don't\" -> \"do not\")\n",
    "    text = text.translate(str.maketrans('', '', string.punctuation)) ## Remove Punctuation Characters\n",
    "    text = re.sub(r'(’)','', text) # Remove known characters\n",
    "    text = re.sub(r'[0-9]+', '', text) ## Remove Numerical Characters\n",
    "    text = unidecode.unidecode(text) ## Normalized accented characters (ñ -> n)\n",
    "    ###########################################\n",
    "    text = word_tokenize(text) ## Tokenize Text    \n",
    "    stop_words = set(stopwords.words('english')) ## Get Stop Words\n",
    "    stop_words_exclusion = ['no','not','nor'] ## Stop Word Exclusion List\n",
    "    stop_words = [word for word in stop_words if word not in stop_words_exclusion] ## Remove Stop Word Exclusions from Stop Words\n",
    "    text = [word for word in text if word not in stop_words] ## Remove Stop Words\n",
    "    ###########################################\n",
    "    # ps = PorterStemmer() ## Stemming: ['wait', 'waiting', 'waited', 'waits'] -> 'wait'\n",
    "    # text = [ps.stem(word) for word in text] ## Apply Word Stemming\n",
    "    wnl = WordNetLemmatizer() ## Lemmatization: 'studies' -> 'study'; 'studying' -> 'studying'\n",
    "    text = [wnl.lemmatize(word) for word in text] ## Apply Word Lemmatization\n",
    "    \n",
    "    return text"
   ]
  },
  {
   "cell_type": "code",
   "execution_count": 5,
   "id": "e707de16",
   "metadata": {
    "scrolled": false
   },
   "outputs": [
    {
     "name": "stdout",
     "output_type": "stream",
     "text": [
      "['upwork', 'world', 'work', 'marketplace', 'skip', 'content', 'upwork', 'home', 'sign', 'toggle', 'search', 'search', 'category', 'talent', 'talent', 'hire', 'professional', 'agency', 'project', 'buy', 'readytostart', 'service', 'job', 'apply', 'job', 'posted', 'client', 'toggle', 'search', 'search', 'category', 'talent', 'talent', 'hire', 'professional', 'agency', 'project', 'buy', 'readytostart', 'service', 'job', 'apply', 'job', 'posted', 'client', 'log', 'sign', 'back', 'main', 'navigation', 'close', 'main', 'navigation', 'find', 'talent', 'post', 'job', 'hire', 'pro', 'talent', 'marketplace', 'browse', 'buy', 'project', 'project', 'catalog', 'let', 'u', 'find', 'right', 'talent', 'talent', 'scout', 'find', 'talent', 'post', 'job', 'hire', 'pro', 'talent', 'marketplace', 'talent', 'marketplace', 'tm', 'learn', 'working', 'talent', 'explore', 'specific', 'hiring', 'need', 'hire', 'talent', 'marketplace', 'development', 'design', 'creative', 'sale', 'marketing', 'writing', 'translation', 'admin', 'customer', 'support', 'finance', 'accounting', 'hr', 'training', 'legal', 'engineering', 'architecture', 'hire', 'freelancer', 'browse', 'buy', 'project', 'project', 'catalog', 'project', 'catalog', 'tm', 'browse', 'buy', 'project', 'clear', 'scope', 'price', 'browse', 'project', 'catalog', 'logo', 'design', 'article', 'blog', 'post', 'wordpress', 'social', 'medium', 'marketing', 'video', 'editing', 'seo', 'let', 'u', 'find', 'right', 'talent', 'talent', 'scout', 'talent', 'scout', 'tm', 'learn', 'recruiter', 'find', 'expert', 'developer', 'designer', 'marketer', 'talk', 'talent', 'scout', 'development', 'design', 'creative', 'marketing', 'find', 'work', 'way', 'earn', 'learn', 'upwork', 'right', 'opportunity', 'find', 'work', 'skill', 'explore', 'kind', 'work', 'available', 'field', 'find', 'way', 'promote', 'show', 'client', 'one', 'want', 'find', 'work', 'way', 'earn', 'learn', 'upwork', 'right', 'opportunity', 'find', 'work', 'skill', 'explore', 'kind', 'work', 'available', 'field', 'find', 'way', 'promote', 'show', 'client', 'one', 'want', 'upwork', 'success', 'story', 'hire', 'review', 'find', 'work', 'work', 'get', 'done', 'guide', 'getting', 'started', 'freelancer', 'guide', 'growing', 'freelance', 'career', 'guide', 'hiring', 'working', 'independent', 'talent', 'see', 'resource', 'upwork', 'success', 'story', 'discover', 'team', 'work', 'strategically', 'grow', 'together', 'hire', 'learn', 'different', 'way', 'get', 'work', 'done', 'review', 'see', 'like', 'collaborate', 'upwork', 'find', 'work', 'learn', 'grow', 'independent', 'career', 'work', 'get', 'done', 'guide', 'getting', 'started', 'freelancer', 'guide', 'growing', 'freelance', 'career', 'guide', 'hiring', 'working', 'independent', 'talent', 'see', 'resource', 'enterprise', 'enterprise', 'log', 'log', 'secondary', 'development', 'design', 'creative', 'sale', 'marketing', 'writing', 'translation', 'admin', 'customer', 'support', 'finance', 'accounting', 'hr', 'training', 'legal', 'engineering', 'architecture', 'work', 'work', 'forget', 'old', 'rule', 'best', 'people', 'right', 'right', 'find', 'talent', 'find', 'work', 'trusted', 'browse', 'talent', 'category', 'looking', 'work', 'browse', 'job', 'development', 'skill', 'popular', 'development', 'skill', 'full', 'stack', 'development', 'web', 'design', 'mobile', 'app', 'development', 'frontend', 'development', 'ecommerce', 'website', 'development', 'scripting', 'automation', 'uxui', 'design', 'backend', 'development', 'cm', 'development', 'information', 'security', 'system', 'administration', 'video', 'game', 'development', 'desktop', 'software', 'development', 'skill', 'find', 'talent', 'development', 'skill', 'design', 'creative', 'skill', 'popular', 'design', 'creative', 'skill', 'full', 'stack', 'development', 'web', 'design', 'mobile', 'app', 'development', 'frontend', 'development', 'ecommerce', 'website', 'development', 'scripting', 'automation', 'uxui', 'design', 'backend', 'development', 'cm', 'development', 'information', 'security', 'system', 'administration', 'video', 'game', 'development', 'desktop', 'software', 'development', 'skill', 'find', 'talent', 'development', 'skill', 'sale', 'marketing', 'skill', 'popular', 'sale', 'marketing', 'skill', 'full', 'stack', 'development', 'web', 'design', 'mobile', 'app', 'development', 'frontend', 'development', 'ecommerce', 'website', 'development', 'scripting', 'automation', 'uxui', 'design', 'backend', 'development', 'cm', 'development', 'information', 'security', 'system', 'administration', 'video', 'game', 'development', 'desktop', 'software', 'development', 'skill', 'find', 'talent', 'development', 'skill', 'writing', 'translation', 'skill', 'popular', 'writing', 'translation', 'skill', 'full', 'stack', 'development', 'web', 'design', 'mobile', 'app', 'development', 'frontend', 'development', 'ecommerce', 'website', 'development', 'scripting', 'automation', 'uxui', 'design', 'backend', 'development', 'cm', 'development', 'information', 'security', 'system', 'administration', 'video', 'game', 'development', 'desktop', 'software', 'development', 'skill', 'find', 'talent', 'development', 'skill', 'admin', 'customer', 'support', 'skill', 'popular', 'admin', 'customer', 'support', 'skill', 'full', 'stack', 'development', 'web', 'design', 'mobile', 'app', 'development', 'frontend', 'development', 'ecommerce', 'website', 'development', 'scripting', 'automation', 'uxui', 'design', 'backend', 'development', 'cm', 'development', 'information', 'security', 'system', 'administration', 'video', 'game', 'development', 'desktop', 'software', 'development', 'skill', 'find', 'talent', 'development', 'skill', 'finance', 'accounting', 'skill', 'popular', 'finance', 'accounting', 'skill', 'full', 'stack', 'development', 'web', 'design', 'mobile', 'app', 'development', 'frontend', 'development', 'ecommerce', 'website', 'development', 'scripting', 'automation', 'uxui', 'design', 'backend', 'development', 'cm', 'development', 'information', 'security', 'system', 'administration', 'video', 'game', 'development', 'desktop', 'software', 'development', 'skill', 'find', 'talent', 'development', 'skill', 'engineering', 'architecture', 'skill', 'popular', 'engineering', 'architecture', 'skill', 'full', 'stack', 'development', 'web', 'design', 'mobile', 'app', 'development', 'frontend', 'development', 'ecommerce', 'website', 'development', 'scripting', 'automation', 'uxui', 'design', 'backend', 'development', 'cm', 'development', 'information', 'security', 'system', 'administration', 'video', 'game', 'development', 'desktop', 'software', 'development', 'skill', 'find', 'talent', 'development', 'skill', 'legal', 'skill', 'popular', 'legal', 'skill', 'full', 'stack', 'development', 'web', 'design', 'mobile', 'app', 'development', 'frontend', 'development', 'ecommerce', 'website', 'development', 'scripting', 'automation', 'uxui', 'design', 'backend', 'development', 'cm', 'development', 'information', 'security', 'system', 'administration', 'video', 'game', 'development', 'desktop', 'software', 'development', 'skill', 'find', 'talent', 'development', 'skill', 'show', 'client', 'find', 'talent', 'way', 'work', 'largest', 'network', 'independent', 'professional', 'get', 'thing', 'done', '--', 'quick', 'turnaround', 'big', 'transformation', 'post', 'job', 'hire', 'pro', 'talent', 'marketplace', 'tm', 'browse', 'buy', 'project', 'project', 'catalog', 'tm', 'let', 'u', 'help', 'find', 'right', 'talent', 'talent', 'scout', 'tm', 'business', 'turn', 'upwork', 'proof', 'quality', 'check', 'pro', 'work', 'sample', 'client', 'review', 'identity', 'verification', 'no', 'cost', 'hire', 'interview', 'potential', 'fit', 'job', 'negotiate', 'rate', 'pay', 'work', 'approve', 'safe', 'secure', 'focus', 'work', 'knowing', 'help', 'protect', 'data', 'privacy', 'support', 'need', 'world', 'work', 'marketplace', 'world', 'work', 'marketplace', 'client', 'rate', 'professional', 'upwork', 'award', 'winner', 'g', 'best', 'software', 'award', 'sign', 'hire', 'talent', 'job', 'find', 'talent', 'talent', 'find', 'great', 'work', 'meet', 'client', 'excited', 'work', 'take', 'career', 'business', 'new', 'height', 'find', 'opportunity', 'every', 'stage', 'freelance', 'career', 'control', 'work', 'explore', 'different', 'way', 'earn', 'find', 'opportunity', 'trusted', 'leading', 'brand', 'startup', '``', 'upwork', 'enables', 'u', 'differentiate', 'competitor', 'produce', 'content', 'higher', 'caliber', \"''\", 'josh', 'machiz', 'chief', 'digital', 'officer', 'result', 'emmy', 'winning', 'facebook', 'watch', 'program', 'million', 'impression', 'generated', 'per', 'client', 'per', 'ipo', '``', 'upwork', 'enables', 'u', 'differentiate', 'competitor', 'produce', 'content', 'higher', 'caliber', \"''\", 'josh', 'machiz', 'chief', 'digital', 'officer', 'result', 'emmy', 'winning', 'facebook', 'watch', 'program', 'million', 'impression', 'generated', 'per', 'client', 'per', 'ipo', '``', 'one', 'advantage', 'utilizing', 'freelancer', 'finding', 'talent', 'different', 'skill', 'quickly', 'need', 'change', \"''\", 'carol', 'taylor', 'director', 'content', 'experience', 'result', 'faster', 'launch', 'project', 'project', 'completed', '``', 'upwork', 'enables', 'u', 'differentiate', 'competitor', 'produce', 'content', 'higher', 'caliber', \"''\", 'josh', 'machiz', 'chief', 'digital', 'officer', 'result', 'emmy', 'winning', 'facebook', 'watch', 'program', 'million', 'impression', 'generated', 'per', 'client', 'per', 'ipo', '``', 'one', 'advantage', 'utilizing', 'freelancer', 'finding', 'talent', 'different', 'skill', 'quickly', 'need', 'change', \"''\", 'carol', 'taylor', 'director', 'content', 'experience', 'result', 'faster', 'launch', 'project', 'project', 'completed', '``', 'upwork', 'enables', 'u', 'differentiate', 'competitor', 'produce', 'content', 'higher', 'caliber', \"''\", 'josh', 'machiz', 'chief', 'digital', 'officer', 'result', 'emmy', 'winning', 'facebook', 'watch', 'program', 'million', 'impression', 'generated', 'per', 'client', 'per', 'ipo', '``', 'one', 'advantage', 'utilizing', 'freelancer', 'finding', 'talent', 'different', 'skill', 'quickly', 'need', 'change', \"''\", 'carol', 'taylor', 'director', 'content', 'experience', 'result', 'faster', 'launch', 'project', 'project', 'completed', '``', 'upwork', 'enables', 'u', 'differentiate', 'competitor', 'produce', 'content', 'higher', 'caliber', \"''\", 'josh', 'machiz', 'chief', 'digital', 'officer', 'result', 'emmy', 'winning', 'facebook', 'watch', 'program', 'million', 'impression', 'generated', 'per', 'client', 'per', 'ipo', '``', 'one', 'advantage', 'utilizing', 'freelancer', 'finding', 'talent', 'different', 'skill', 'quickly', 'need', 'change', \"''\", 'carol', 'taylor', 'director', 'content', 'experience', 'result', 'faster', 'launch', 'project', 'project', 'completed', 'support', 'ukraine', 'taking', 'action', 'help', 'freelancer', 'client', 'people', 'ukraine', '--', 'learn', 'top', 'skill', 'trending', 'skill', 'top', 'skill', 'u', 'project', 'catalog', 'tm', 'top', 'skill', 'trending', 'skill', 'top', 'skill', 'u', 'project', 'catalog', 'tm', 'data', 'entry', 'specialist', 'video', 'editor', 'data', 'analyst', 'shopify', 'developer', 'ruby', 'rail', 'developer', 'android', 'developer', 'bookkeeper', 'content', 'writer', 'copywriter', 'database', 'administrator', 'data', 'scientist', 'frontend', 'developer', 'game', 'developer', 'graphic', 'designer', 'io', 'developer', 'java', 'developer', 'javascript', 'developer', 'logo', 'designer', 'mobile', 'app', 'developer', 'php', 'developer', 'python', 'developer', 'resume', 'writer', 'seo', 'expert', 'social', 'medium', 'manager', 'software', 'developer', 'software', 'engineer', 'technical', 'writer', 'ui', 'designer', 'ux', 'designer', 'virtual', 'assistant', 'web', 'designer', 'wordpress', 'developer', 'blockchain', 'go', 'development', 'nodejs', 'vuejs', 'hr', 'consulting', 'microsoft', 'power', 'bi', 'instructional', 'design', 'reactjs', 'videographers', 'html', 'developer', 'ghostwriter', 'unity', 'developer', 'business', 'consultant', 'coder', 'marketing', 'consultant', 'web', 'developer', 'illustrator', 'google', 'adwords', 'expert', 'digital', 'marketer', 'project', 'manager', 'arduino', 'programmer', 'ruby', 'developer', 'angularjs', 'devleopers', 'full', 'stack', 'developer', 'email', 'marketing', 'consultant', 'react', 'native', 'developer', 'swift', 'developer', 'cs', 'developer', 'google', 'sketchup', 'freelancer', 'back', 'end', 'developer', 'smartsheet', 'freelancer', 'zoom', 'video', 'conferencing', 'freelancer', 'accountant', 'u', 'cad', 'designer', 'u', 'curriculum', 'developer', 'u', 'ebook', 'designer', 'u', 'fashion', 'designer', 'u', 'ghostwriter', 'u', 'google', 'adwords', 'expert', 'u', 'graphic', 'designer', 'u', 'javascript', 'developer', 'u', 'product', 'developer', 'u', 'shopify', 'developer', 'u', 'squarespace', 'developer', 'u', 'tax', 'preparers', 'u', 'technical', 'support', 'agent', 'u', 'virtual', 'assistant', 'u', 'web', 'designer', 'u', 'woocommerce', 'developer', 'u', 'wordpress', 'developer', 'u', 'writer', 'u', 'zoho', 'crm', 'specialist', 'u', 'accountant', 'near', 'north', 'carolina', 'adobe', 'photoshop', 'expert', 'near', 'san', 'antonio', 'tx', 'android', 'developer', 'near', 'san', 'francisco', 'ca', 'bookkeeper', 'near', 'los', 'angeles', 'ca', 'business', 'coach', 'near', 'atlanta', 'ga', 'fashion', 'designer', 'near', 'los', 'angeles', 'ca', 'grant', 'writer', 'near', 'chicago', 'il', 'graphic', 'designer', 'near', 'new', 'york', 'ny', 'logo', 'designer', 'near', 'pittsburgh', 'pa', 'mechanical', 'engineer', 'near', 'seattle', 'wa', 'music', 'producer', 'near', 'chicago', 'il', 'photo', 'editor', 'near', 'los', 'angeles', 'ca', 'photographer', 'near', 'brooklyn', 'ny', 'product', 'photographer', 'near', 'seattle', 'wa', 'resume', 'writer', 'near', 'chicago', 'il', 'seo', 'expert', 'near', 'new', 'york', 'ny', 'social', 'medium', 'manager', 'near', 'los', 'angeles', 'ca', 'videographers', 'near', 'dallas', 'tx', 'virtual', 'assistant', 'near', 'charlotte', 'nc', 'web', 'designer', 'near', 'san', 'francisco', 'ca', 'resume', 'writing', 'service', 'seo', 'service', 'translation', 'service', 'transcription', 'service', 'virtual', 'assistant', 'service', 'email', 'marketing', 'service', 'web', 'design', 'service', 'proofreading', 'service', 'business', 'consulting', 'service', 'logo', 'design', 'service', 'architectureinterior', 'design', 'service', 'branding', 'service', 'social', 'medium', 'management', 'service', 'video', 'editing', 'service', 'lead', 'generation', 'service', 'content', 'marketing', 'service', 'survey', 'service', 'landscape', 'design', 'service', 'photoshop', 'service', 'mobile', 'app', 'development', 'service', 'data', 'entry', 'service', 'building', 'information', 'modeling', 'service', 'podcast', 'editing', 'service', 'wellness', 'service', 'hr', 'consulting', 'service', 'video', 'marketing', 'service', 'wordpress', 'development', 'service', 'ecommerce', 'service', 'influencer', 'marketing', 'service', 'public', 'relation', 'service', 'qa', 'service', 'podcast', 'marketing', 'service', 'footer', 'navigation', 'client', 'hire', 'talent', 'marketplace', 'project', 'catalog', 'talent', 'scout', 'hire', 'agency', 'enterprise', 'payroll', 'service', 'direct', 'contract', 'hire', 'worldwide', 'hire', 'usa', 'talent', 'find', 'work', 'direct', 'contract', 'find', 'freelance', 'job', 'worldwide', 'find', 'freelance', 'job', 'usa', 'resource', 'help', 'support', 'success', 'story', 'upwork', 'review', 'resource', 'blog', 'community', 'affiliate', 'program', 'free', 'business', 'tool', 'company', 'u', 'leadership', 'investor', 'relation', 'career', 'impact', 'press', 'contact', 'u', 'trust', 'safety', 'security', 'modern', 'slavery', 'statement', 'follow', 'u', 'visit', 'upwork', 'facebook', 'read', 'upwork', 'company', 'news', 'linkedin', 'follow', 'upwork', 'twitter', 'watch', 'upwork', 'video', 'youtube', 'follow', 'upwork', 'instagram', 'mobile', 'app', 'download', 'upwork', 'app', 'itunes', 'download', 'upwork', 'app', 'google', 'play', '(', 'c', ')', 'upwork', '(', 'r', ')', 'global', 'inc', 'term', 'service', 'privacy', 'policy', 'ca', 'notice', 'collection', 'cookie', 'setting', 'accessibility']\n"
     ]
    }
   ],
   "source": [
    "training_text = text_preprocessor(training_text)\n",
    "print(training_text)"
   ]
  },
  {
   "cell_type": "code",
   "execution_count": null,
   "id": "db12ebaa",
   "metadata": {},
   "outputs": [],
   "source": []
  },
  {
   "cell_type": "code",
   "execution_count": null,
   "id": "fb80f247",
   "metadata": {},
   "outputs": [],
   "source": []
  },
  {
   "cell_type": "code",
   "execution_count": null,
   "id": "a93bd69f",
   "metadata": {},
   "outputs": [],
   "source": []
  },
  {
   "cell_type": "code",
   "execution_count": null,
   "id": "91e64662",
   "metadata": {},
   "outputs": [],
   "source": []
  },
  {
   "cell_type": "code",
   "execution_count": null,
   "id": "2c123c17",
   "metadata": {},
   "outputs": [],
   "source": []
  },
  {
   "cell_type": "code",
   "execution_count": null,
   "id": "481c92a3",
   "metadata": {},
   "outputs": [],
   "source": []
  },
  {
   "cell_type": "code",
   "execution_count": null,
   "id": "3023d880",
   "metadata": {},
   "outputs": [],
   "source": []
  }
 ],
 "metadata": {
  "kernelspec": {
   "display_name": "Python 3 (ipykernel)",
   "language": "python",
   "name": "python3"
  },
  "language_info": {
   "codemirror_mode": {
    "name": "ipython",
    "version": 3
   },
   "file_extension": ".py",
   "mimetype": "text/x-python",
   "name": "python",
   "nbconvert_exporter": "python",
   "pygments_lexer": "ipython3",
   "version": "3.9.7"
  }
 },
 "nbformat": 4,
 "nbformat_minor": 5
}
